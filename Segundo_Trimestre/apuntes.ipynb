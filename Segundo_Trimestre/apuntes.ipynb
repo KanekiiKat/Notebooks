{
 "cells": [
  {
   "cell_type": "markdown",
   "metadata": {},
   "source": [
    "Maven / Gradle para corregir nuestros trabajos\n",
    "R.A.D -> Intelig\n",
    "\n",
    "C++ == c orientado a objetos.\n",
    "\n",
    "Kotlin = desarrollar aplicaciones android.\n",
    "\n",
    "Saber hacer un CRUD para aprobar."
   ]
  },
  {
   "cell_type": "markdown",
   "metadata": {},
   "source": [
    "@pytest.mark.chance = decoradores de función.\n",
    "\n",
    "metodo estático = no self"
   ]
  }
 ],
 "metadata": {
  "language_info": {
   "name": "python"
  }
 },
 "nbformat": 4,
 "nbformat_minor": 2
}
