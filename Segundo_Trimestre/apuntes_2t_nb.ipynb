{
 "cells": [
  {
   "cell_type": "markdown",
   "metadata": {},
   "source": [
    "Maven / Gradle para corregir nuestros trabajos\n",
    "R.A.D -> Intelig\n",
    "\n",
    "C++ == c orientado a objetos.\n",
    "\n",
    "Kotlin = desarrollar aplicaciones android.\n",
    "\n",
    "Saber hacer un CRUD para aprobar.\n",
    "\n",
    "DDD = Domain Driver Design\n",
    "\n",
    "pytest-cov == coverage\n",
    "\n",
    "- en java se suele poner get delante para decir que con dicha funcion vas  a obtener algo."
   ]
  },
  {
   "cell_type": "markdown",
   "metadata": {},
   "source": [
    "@pytest.mark.chance = decoradores de función.\n",
    "\n",
    "metodo estático = no self"
   ]
  },
  {
   "cell_type": "markdown",
   "metadata": {},
   "source": [
    "Tipos de metodos\n",
    "\n",
    "- Estaticos (Normales)\n",
    "- De clase (Clase.)\n",
    "- instancias (con selfs)"
   ]
  },
  {
   "cell_type": "markdown",
   "metadata": {},
   "source": [
    "## Clases\n",
    "\n",
    "- Las clases no tienen conocimientos internos de otra clase"
   ]
  },
  {
   "cell_type": "code",
   "execution_count": null,
   "metadata": {},
   "outputs": [],
   "source": [
    "# Metodo privado (ejemplo):\n",
    "\n",
    "def __init__(self, *dice):\n",
    "    self.dice = list(dice)"
   ]
  },
  {
   "cell_type": "markdown",
   "metadata": {},
   "source": [
    "Abstracción =   Poner nombre a una clase.\n",
    "                El nombre de la clase te dirá lo que hará.\n",
    "Encapsulación = Hacer una función privada con __ funcion __(): sirve para que la persona que importa tu clase no sepa como está hecha la clase.\n",
    "\n",
    "usar getalgo(): en las funciones para obtener algo de un objeto."
   ]
  },
  {
   "cell_type": "markdown",
   "metadata": {},
   "source": [
    "Etiqueta fixture: Una etiqueta fixture en pytest es una función que se utiliza para proporcionar datos de prueba o configurar el estado antes de ejecutar una prueba. Las fixtures se pueden usar para inicializar bases de datos, crear archivos de configuración, o cualquier otra configuración necesaria para las pruebas. Se definen usando el decorador `@pytest.fixture`."
   ]
  },
  {
   "cell_type": "markdown",
   "metadata": {},
   "source": [
    "Una clase es la unidad mínima que se puede garantizar que es correcta"
   ]
  }
 ],
 "metadata": {
  "language_info": {
   "name": "python"
  }
 },
 "nbformat": 4,
 "nbformat_minor": 2
}
