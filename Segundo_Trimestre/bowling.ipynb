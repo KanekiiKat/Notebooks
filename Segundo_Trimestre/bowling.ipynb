{
 "cells": [
  {
   "cell_type": "markdown",
   "metadata": {},
   "source": [
    "# Bowling Kata"
   ]
  },
  {
   "cell_type": "markdown",
   "metadata": {},
   "source": [
    "- Hacer una clase que haga cosas.\n",
    "- Class name: BowlingCard\n",
    "- ADT tipo de dato abstracto\n",
    "- 10 frames (10 rondas)\n",
    "- Último frame puede tener 3 bolas."
   ]
  },
  {
   "cell_type": "markdown",
   "metadata": {},
   "source": [
    "## Posibles nombres:\n",
    "\n",
    "- strike : Cuando tira todos los bolos.\n",
    "- spare : Cuando tira todos los bolos en la segunda tirada\n",
    "- miss : Cuando no tira ningún bolo \n",
    "- foul : si salta alguna linea\n",
    "\n",
    "- first_roll : Primer lanzamiento (puntuación)\n",
    "- second_roll : Segundo lanzamiento (puntuación)\n",
    "- frame : total (puntuación)"
   ]
  },
  {
   "cell_type": "markdown",
   "metadata": {},
   "source": [
    "## Pins (bolos)\n",
    "\n",
    "      1\n",
    "    2   3\n",
    "   4  5  6\n",
    " 7   8   9  10\n"
   ]
  },
  {
   "cell_type": "markdown",
   "metadata": {},
   "source": [
    "## Tener por ejemplo: \n",
    "- self: instancia\n",
    "- rolls: parámetro\n",
    "- self.rolls: atributo de instancia"
   ]
  },
  {
   "cell_type": "code",
   "execution_count": null,
   "metadata": {},
   "outputs": [],
   "source": [
    "def  __init__ (self, rolls):\n",
    "    self.rolls = rolls"
   ]
  },
  {
   "cell_type": "markdown",
   "metadata": {},
   "source": [
    "#### Otro Ejemplo:"
   ]
  },
  {
   "cell_type": "code",
   "execution_count": null,
   "metadata": {},
   "outputs": [],
   "source": [
    "game = BowlingCard(\"9-x4/32\")\n",
    "self.table_score\n",
    "new_game = BowlingCard(xxxxxxx)"
   ]
  }
 ],
 "metadata": {
  "language_info": {
   "name": "python"
  }
 },
 "nbformat": 4,
 "nbformat_minor": 2
}
