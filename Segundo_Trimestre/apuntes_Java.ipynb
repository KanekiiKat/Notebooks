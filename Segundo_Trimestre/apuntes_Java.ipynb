{
 "cells": [
  {
   "cell_type": "markdown",
   "metadata": {},
   "source": [
    "# Java"
   ]
  },
  {
   "cell_type": "markdown",
   "metadata": {},
   "source": [
    "![Introducción](../imgs/esquema_introduccion_java.png)"
   ]
  },
  {
   "cell_type": "markdown",
   "metadata": {},
   "source": [
    "Orden: instalar jre --> sdk --> IDE \n",
    "\n",
    "Herramienta de proyectos para Java. \n",
    "Dependencias Yunit o Junit"
   ]
  }
 ],
 "metadata": {
  "language_info": {
   "name": "python"
  }
 },
 "nbformat": 4,
 "nbformat_minor": 2
}
