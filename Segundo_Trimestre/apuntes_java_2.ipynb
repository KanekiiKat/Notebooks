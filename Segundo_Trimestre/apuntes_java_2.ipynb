{
 "cells": [
  {
   "cell_type": "markdown",
   "id": "0566418c",
   "metadata": {},
   "source": [
    "# Java 2"
   ]
  },
  {
   "cell_type": "markdown",
   "id": "f84b0d5e",
   "metadata": {},
   "source": [
    "Al llamar a una interfaz\n",
    "\n",
    "Interfaz interfaz = new Clase()\n",
    "\n",
    "se pone a la izquierda la interfaz"
   ]
  },
  {
   "cell_type": "markdown",
   "id": "aa7caddf",
   "metadata": {},
   "source": [
    "## Patron singelton\n",
    "\n",
    "El código implementa el patrón Singleton en Java, que asegura que una clase tenga una única instancia y proporciona un punto global de acceso a ella.\n",
    "\n",
    "1. **Clase `Singleton`**: \n",
    "    - Tiene un atributo estático privado `instance` que inicialmente es `null`.\n",
    "    - El constructor de la clase es privado para evitar que se creen instancias directamente.\n",
    "    - Proporciona un método estático público `getInstance()` que verifica si `instance` ya tiene una instancia creada. Si no, se crea una nueva instancia y se asigna a `instance`. Si ya existe, simplemente se devuelve la instancia existente.\n",
    "\n",
    "2. **Uso del patrón**:\n",
    "    - Se obtienen dos referencias (`obj1` y `obj2`) llamando al método `getInstance()` de la clase `Singleton`.\n",
    "    - Al verificar `obj1 == obj2`, se obtiene `true`, lo que confirma que ambas referencias apuntan a la misma instancia. Esto demuestra que el patrón Singleton está funcionando correctamente.\n"
   ]
  },
  {
   "cell_type": "markdown",
   "id": "5a7ea4d9",
   "metadata": {},
   "source": [
    "**scan**: entrada por teclado"
   ]
  },
  {
   "cell_type": "markdown",
   "id": "89badcb0",
   "metadata": {},
   "source": [
    "# Maps en Java\n",
    "\n",
    "En Java, un `Map` es una colección que permite almacenar pares clave-valor. Cada clave es única y se utiliza para asociar un valor. Los mapas son útiles cuando se necesita acceder rápidamente a un valor basado en su clave.\n",
    "\n",
    "### Características principales:\n",
    "1. **Claves únicas**: No se permiten claves duplicadas.\n",
    "2. **Acceso rápido**: Los valores se pueden recuperar rápidamente utilizando sus claves.\n",
    "3. **Implementaciones comunes**:\n",
    "    - `HashMap`: No garantiza el orden de las claves.\n",
    "    - `LinkedHashMap`: Mantiene el orden de inserción de las claves.\n",
    "    - `TreeMap`: Ordena las claves de forma natural o según un comparador.\n",
    "\n",
    "### Algunas funciones con los maps:\n",
    "- **`put(K clave, V valor)`**: Inserta un par clave-valor en el mapa. Si la clave ya existe, reemplaza el valor asociado.\n",
    "- **`get(Object clave)`**: Devuelve el valor asociado con la clave especificada, o `null` si la clave no está presente.\n",
    "- **`remove(Object clave)`**: Elimina el par clave-valor asociado con la clave especificada.\n",
    "- **`containsKey(Object clave)`**: Verifica si el mapa contiene una clave específica.\n",
    "- **`containsValue(Object valor)`**: Verifica si el mapa contiene un valor específico.\n",
    "- **`keySet()`**: Devuelve un conjunto con todas las claves del mapa.\n",
    "- **`values()`**: Devuelve una colección con todos los valores del mapa.\n",
    "- **`entrySet()`**: Devuelve un conjunto de pares clave-valor (`Map.Entry`).\n"
   ]
  },
  {
   "cell_type": "markdown",
   "id": "5ddaa5b7",
   "metadata": {},
   "source": [
    "Implementacion : ------>\n",
    "Dependencia : _________>"
   ]
  },
  {
   "cell_type": "markdown",
   "id": "fde70be4",
   "metadata": {},
   "source": [
    "## Videos unidad 2 - Assertions\n",
    "\n",
    "**Debuging** es encontrar el origen de una infección. El origen de la infección es que escribes mal una sentencia\n",
    "\n",
    "**Casos test** evita tener infecciones\n",
    "\n",
    "**Try/Except** para barricadas\n",
    "\n",
    "**Asserts** para casos test\n",
    "\n",
    "En java las compilaciones son opcionales.\n",
    "\n",
    "En las assertciones no se escribe lógica.\n"
   ]
  },
  {
   "cell_type": "markdown",
   "id": "5cde6f24",
   "metadata": {},
   "source": [
    "\n",
    "\n",
    "10 / 0 : es una expresión \"checked, la comprueba el copilador\n",
    "Existen las unchecked, que no las comprueba el copilador\n",
    "Evitar excepciones, mejor if/else\n",
    "\n",
    "## Try/Catch\n",
    "\n",
    "En java, try catch y finally\n",
    "\n",
    "**try**: codigo que puede crear una excepcion\n",
    "\n",
    "**catch**: tantos catchs como escepciones pueda haeber\n",
    "\n",
    "**finally**: print, recomendado hacerlo.\n",
    "\n",
    "Excepción de NulPointerException, el Optional lo arregla.\n",
    "\n",
    "RuntimeException: Muy importante. Muchas vienen de ahí.\n",
    "\n",
    "Error: Chungo, no tiene que fer con la lógica\n",
    "Excepciones: Si es de la lógica.\n",
    "\n",
    "Evitar \"or\" en un catch y separarlo en diferentes catchs.\n",
    "\n",
    "No usar exepciones como bloques if/else\n",
    "\n",
    "Usar excepciones runtime para nombrar que se han roto las condiciones.\n",
    "\n",
    "No ecribir nada en el catch: falla silenciosamente.\n",
    "\n",
    "Las excepciones van en un fichero a parte., tiene que llevar de donde viene en la creación de la clase.\n",
    "\n",
    "\n"
   ]
  }
 ],
 "metadata": {
  "language_info": {
   "name": "python"
  }
 },
 "nbformat": 4,
 "nbformat_minor": 5
}
