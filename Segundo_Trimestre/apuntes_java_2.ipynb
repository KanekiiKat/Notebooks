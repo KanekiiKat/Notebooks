{
 "cells": [
  {
   "cell_type": "markdown",
   "id": "0566418c",
   "metadata": {},
   "source": [
    "# Java 2"
   ]
  },
  {
   "cell_type": "markdown",
   "id": "f84b0d5e",
   "metadata": {},
   "source": [
    "Al llamar a una interfaz\n",
    "\n",
    "Interfaz interfaz = new Clase()\n",
    "\n",
    "se pone a la izquierda la interfaz"
   ]
  },
  {
   "cell_type": "markdown",
   "id": "aa7caddf",
   "metadata": {},
   "source": [
    "## Patron singelton\n",
    "\n",
    "El código implementa el patrón Singleton en Java, que asegura que una clase tenga una única instancia y proporciona un punto global de acceso a ella.\n",
    "\n",
    "1. **Clase `Singleton`**: \n",
    "    - Tiene un atributo estático privado `instance` que inicialmente es `null`.\n",
    "    - El constructor de la clase es privado para evitar que se creen instancias directamente.\n",
    "    - Proporciona un método estático público `getInstance()` que verifica si `instance` ya tiene una instancia creada. Si no, se crea una nueva instancia y se asigna a `instance`. Si ya existe, simplemente se devuelve la instancia existente.\n",
    "\n",
    "2. **Uso del patrón**:\n",
    "    - Se obtienen dos referencias (`obj1` y `obj2`) llamando al método `getInstance()` de la clase `Singleton`.\n",
    "    - Al verificar `obj1 == obj2`, se obtiene `true`, lo que confirma que ambas referencias apuntan a la misma instancia. Esto demuestra que el patrón Singleton está funcionando correctamente.\n"
   ]
  },
  {
   "cell_type": "markdown",
   "id": "5a7ea4d9",
   "metadata": {},
   "source": [
    "Patrón singelton: "
   ]
  }
 ],
 "metadata": {
  "language_info": {
   "name": "python"
  }
 },
 "nbformat": 4,
 "nbformat_minor": 5
}
