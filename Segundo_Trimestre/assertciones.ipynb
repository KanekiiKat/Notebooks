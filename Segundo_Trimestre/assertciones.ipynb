{
 "cells": [
  {
   "cell_type": "markdown",
   "metadata": {},
   "source": [
    "# Assertciones\n",
    "\n",
    "Las **assertciones** en Java no se ejecutan siempre, por eso necesita a maven por ejemplo, en Python por defecto si.\n",
    "\n",
    "Los Tests puedeen ser principalmente de **precondiciones** y **postcondiciones**. Con las asserts no puedes testear postcondiciones públicas.\n",
    "\n",
    "Diferencia entre assert y try except: \n",
    "\n",
    "- **assert:** prueba lo que entra.\n",
    "- **try/except:** controla lo que entra y captura errores.\n",
    "\n",
    "## Diferencia entre permisivo o estricto.\n",
    "- **Permisivo**: Acepta más casos, incluso si no cumplen estrictamente con las reglas. Es más flexible pero puede permitir errores o inconsistencias.\n",
    "\n",
    "- **Estricto**: Aplica reglas rígidas y no tolera desviaciones. Es más seguro pero menos flexible.\n",
    "\n",
    "\n",
    "**EJ: int numero = 10 / 0:** es una expresión \"checked, la comprueba el copilador\n",
    "\n",
    "Existen las unchecked, que no las comprueba el copilador\n",
    "\n",
    "Evitar excepciones siempre que se pueda, mejor if/else. Pero, no usar exepciones como bloques if/else\n",
    "\n",
    "## Try/Catch\n",
    "\n",
    "En java, try catch y finally\n",
    "\n",
    "**try**: codigo que puede crear una excepcion\n",
    "\n",
    "**catch**: tantos catchs como escepciones pueda haeber\n",
    "\n",
    "**finally**: print, recomendado hacerlo, siempre se ejecuta, haga un catch o no.\n",
    "\n",
    "Excepción de **NulPointerException**, el Optional lo arregla.\n",
    "\n",
    "- **RuntimeException**: Muy importante. Muchas vienen de ahí.\n",
    "\n",
    "- **Error**: Chungo, no tiene que fer con la lógica\n",
    "- **Excepciones**: Si es de la lógica.\n",
    "s\n",
    "- Evitar \"or\" en un catch y separarlo en diferentes catchs. \n",
    "\n",
    "- Usar excepciones runtime para nombrar que se han roto las condiciones.\n",
    "\n",
    "- Si no escribes nada en el catch, es un fallo silencioso (catch silencioso).\n",
    "\n",
    "- Las excepciones van en un fichero a parte, tiene que llevar de donde viene en la creación de la clase.\n",
    "\n",
    "- Mayoria de infecciones: Code Smells"
   ]
  },
  {
   "cell_type": "markdown",
   "metadata": {},
   "source": [
    "## Dependencias\n",
    "\n",
    "si **a** modificó el valor a uno que no debía, como se dice que **b** es dependiente de **a**, entonces en vez de depurar, se ven ls cambios que tuvo la variable especifica, y si en ese cambio depende de otra variable.\n",
    "\n",
    "Osea, ver de que valores depende la variable que se usa de donde falla.\n",
    "\n",
    "\n",
    "**En resumen:** Me refiero, a que cuando ocurre un error relacionado con una variable (por ejemplo, su valor es incorrecto), en lugar de depurar todo el código, es útil analizar de qué otras variables depende ese valor. Así, puedes rastrear los cambios y ver si alguna de las variables de las que depende fue modificada incorrectamente, facilitando la identificación del origen del problema.\n"
   ]
  }
 ],
 "metadata": {
  "language_info": {
   "name": "python"
  }
 },
 "nbformat": 4,
 "nbformat_minor": 2
}
