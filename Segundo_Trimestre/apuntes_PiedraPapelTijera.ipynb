{
 "cells": [
  {
   "cell_type": "markdown",
   "metadata": {},
   "source": [
    "# Piedra, Papel, Tijera - Kata"
   ]
  },
  {
   "cell_type": "markdown",
   "metadata": {},
   "source": [
    "- Crear una clases y meter dentro de ella los metodos.\n",
    "- Crear constantes de las opciones del jugador \n",
    "    - ej: ROCK = 0\n",
    "- Aplicar abstracción procedural y abstracción de datos \n",
    "- Si no te gustan los loops usar comprensiones.\n",
    "\n",
    "- Cojer test del profe."
   ]
  }
 ],
 "metadata": {
  "language_info": {
   "name": "python"
  }
 },
 "nbformat": 4,
 "nbformat_minor": 2
}
