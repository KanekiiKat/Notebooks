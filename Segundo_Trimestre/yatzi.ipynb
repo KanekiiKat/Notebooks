{
 "cells": [
  {
   "cell_type": "markdown",
   "metadata": {},
   "source": [
    "- Cojer sus casos test\n",
    "\n",
    "- cambiar parametros si cojo el código de Emily Bache\n",
    "\n",
    "- refactorización\n",
    "\n",
    "- Hacer los casos test al principio\n",
    "\n",
    "- Cada pequeño cambio, refactorizar."
   ]
  },
  {
   "cell_type": "markdown",
   "metadata": {},
   "source": [
    "*argum = el  *  acumula en una tupla argumentos indefinidos."
   ]
  }
 ],
 "metadata": {
  "language_info": {
   "name": "python"
  }
 },
 "nbformat": 4,
 "nbformat_minor": 2
}
