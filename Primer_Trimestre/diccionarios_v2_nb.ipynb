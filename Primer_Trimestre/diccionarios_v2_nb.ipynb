{
 "cells": [
  {
   "cell_type": "markdown",
   "id": "56d79091",
   "metadata": {},
   "source": [
    "# Diccionarios en Python"
   ]
  },
  {
   "cell_type": "code",
   "execution_count": 1,
   "id": "69ba68eb",
   "metadata": {},
   "outputs": [
    {
     "ename": "NameError",
     "evalue": "name 'lista_claves' is not defined",
     "output_type": "error",
     "traceback": [
      "\u001b[0;31m---------------------------------------------------------------------------\u001b[0m",
      "\u001b[0;31mNameError\u001b[0m                                 Traceback (most recent call last)",
      "Cell \u001b[0;32mIn[1], line 7\u001b[0m\n\u001b[1;32m      5\u001b[0m D \u001b[38;5;241m=\u001b[39m \u001b[38;5;28mdict\u001b[39m(nombre\u001b[38;5;241m=\u001b[39m\u001b[38;5;124m'\u001b[39m\u001b[38;5;124mBob\u001b[39m\u001b[38;5;124m'\u001b[39m, edad\u001b[38;5;241m=\u001b[39m\u001b[38;5;241m40\u001b[39m)\n\u001b[1;32m      6\u001b[0m D \u001b[38;5;241m=\u001b[39m \u001b[38;5;28mdict\u001b[39m([(\u001b[38;5;124m'\u001b[39m\u001b[38;5;124mnombre\u001b[39m\u001b[38;5;124m'\u001b[39m, \u001b[38;5;124m'\u001b[39m\u001b[38;5;124mBob\u001b[39m\u001b[38;5;124m'\u001b[39m), (\u001b[38;5;124m'\u001b[39m\u001b[38;5;124medad\u001b[39m\u001b[38;5;124m'\u001b[39m, \u001b[38;5;241m40\u001b[39m)])\n\u001b[0;32m----> 7\u001b[0m D \u001b[38;5;241m=\u001b[39m \u001b[38;5;28mdict\u001b[39m(\u001b[38;5;28mzip\u001b[39m(\u001b[43mlista_claves\u001b[49m, lista_valores))\n\u001b[1;32m      8\u001b[0m D \u001b[38;5;241m=\u001b[39m \u001b[38;5;28mdict\u001b[39m\u001b[38;5;241m.\u001b[39mfromkeys([\u001b[38;5;124m'\u001b[39m\u001b[38;5;124mnombre\u001b[39m\u001b[38;5;124m'\u001b[39m, \u001b[38;5;124m'\u001b[39m\u001b[38;5;124medad\u001b[39m\u001b[38;5;124m'\u001b[39m])\n",
      "\u001b[0;31mNameError\u001b[0m: name 'lista_claves' is not defined"
     ]
    }
   ],
   "source": [
    "# Dicionarios vacíos y con datos\n",
    "D = {}  # Diccionario vacío\n",
    "D = {'nombre': 'Bob', 'edad': 40}  # Diccionario con dos elementos\n",
    "E = {'cto': {'nombre': 'Bob', 'edad': 40}}  # Diccionario anidado\n",
    "D = dict(nombre='Bob', edad=40)\n",
    "D = dict([('nombre', 'Bob'), ('edad', 40)])\n",
    "D = dict(zip(lista_claves, lista_valores))\n",
    "D = dict.fromkeys(['nombre', 'edad'])"
   ]
  },
  {
   "cell_type": "markdown",
   "id": "036d53f5",
   "metadata": {},
   "source": [
    "## Técnicas alternativas de construcción"
   ]
  },
  {
   "cell_type": "code",
   "execution_count": null,
   "id": "0f19a42e",
   "metadata": {},
   "outputs": [],
   "source": [
    "# Usando palabras clave, pares clave/valor, pares clave/valor con zip, listas de claves\n",
    "D['nombre']  # Indexación por clave\n",
    "E['cto']['edad']"
   ]
  },
  {
   "cell_type": "code",
   "execution_count": null,
   "id": "71d2c7ce",
   "metadata": {},
   "outputs": [],
   "source": [
    "# Prueba de membresía: ver si una clave está presente\n",
    "'edad' in D"
   ]
  },
  {
   "cell_type": "code",
   "execution_count": null,
   "id": "b899b03f",
   "metadata": {},
   "outputs": [],
   "source": [
    "# Métodos útiles de diccionarios\n",
    "D.keys()  # Todas las claves\n",
    "D.values()  # Todos los valores\n",
    "D.items()  # Todos los pares clave/valor\n",
    "D.copy()  # Copia del diccionario (superficial)\n",
    "D.clear()  # Limpia todos los elementos\n",
    "D.update(D2)  # Fusión con otro diccionario\n",
    "D.get('clave', 'valor_por_defecto')  # Obtiene el valor por clave, devuelve el valor por defecto si no existe\n",
    "D.pop('clave', 'valor_por_defecto')  # Elimina una clave y la devuelve, usa el valor por defecto si no existe\n",
    "D.setdefault('clave', 'valor_por_defecto')  # Establece un valor por defecto si la clave no existe\n",
    "D.popitem()  # Elimina y devuelve un par clave/valor"
   ]
  },
  {
   "cell_type": "markdown",
   "id": "7d5da506",
   "metadata": {},
   "source": [
    "## Métodos adicionales"
   ]
  },
  {
   "cell_type": "code",
   "execution_count": null,
   "id": "7a681f98",
   "metadata": {},
   "outputs": [],
   "source": [
    "# Métodos adicionales para trabajar con diccionarios\n",
    "len(D)  # Longitud del diccionario: número de entradas almacenadas\n",
    "D['clave'] = 42  # Añadiendo o modificando claves\n",
    "del D['clave']  # Eliminando entradas por clave\n",
    "list(D.keys())  # Obtener una lista de todas las claves"
   ]
  },
  {
   "cell_type": "code",
   "execution_count": null,
   "id": "373ca43f",
   "metadata": {},
   "outputs": [],
   "source": [
    "# Vistas de diccionario (Python 3.X)\n",
    "D1.keys() & D2.keys()  # Operaciones con vistas de claves\n",
    "# En Python 2.7: D.viewkeys(), D.viewvalues()"
   ]
  },
  {
   "cell_type": "code",
   "execution_count": null,
   "id": "6c462910",
   "metadata": {},
   "outputs": [],
   "source": [
    "# Compresiones de diccionarios (Python 3.X, 2.7)\n",
    "D = {x: x*2 for x in range(10)}  # Crear un diccionario con comprensión"
   ]
  },
  {
   "cell_type": "code",
   "execution_count": null,
   "id": "fb8b63b9",
   "metadata": {},
   "outputs": [],
   "source": [
    "D = {'spam': 2, 'ham': 1, 'eggs': 3}\n",
    "len(D) #Cuenta el número de entradas"
   ]
  },
  {
   "cell_type": "code",
   "execution_count": null,
   "id": "fde89568",
   "metadata": {},
   "outputs": [],
   "source": [
    "list(D.keys()) #Crea una lista de las entradas.\n",
    "list(D.values()) #Crea una lista de los valores.\n",
    "list(D.items()) #Crea una lista de cada \"entrada : valor\" en tuplas \"[(entrada, valor)]\"."
   ]
  },
  {
   "cell_type": "code",
   "execution_count": null,
   "id": "1a6db03e",
   "metadata": {},
   "outputs": [],
   "source": [
    "D['ham'] = ['grill', 'bake', 'fry'] #Cambia la entrada \n",
    "del D['eggs'] # Borra una entrada\n",
    "D['brunch'] = 'Bacon' # Añade nueva entrada"
   ]
  },
  {
   "cell_type": "code",
   "execution_count": null,
   "id": "930debc2",
   "metadata": {},
   "outputs": [],
   "source": [
    "D.pop('muffin') #Borra la entrada y devuelve el valor de la entrada."
   ]
  },
  {
   "cell_type": "code",
   "execution_count": null,
   "id": "0bb995b5",
   "metadata": {},
   "outputs": [],
   "source": [
    "table = {'1975': 'Holy Grail', \n",
    "         '1979': 'Life of Brian',\n",
    "         '1983': 'The Meaning of Life'} # Entrada/Llave : valor"
   ]
  },
  {
   "cell_type": "code",
   "execution_count": null,
   "id": "b2fa4ea2",
   "metadata": {},
   "outputs": [],
   "source": [
    "year = '1983'\n",
    "movie = table[year] # dictionary[llave] => Valor"
   ]
  },
  {
   "cell_type": "code",
   "execution_count": null,
   "id": "1ff0764d",
   "metadata": {},
   "outputs": [],
   "source": [
    "print(year + '\\t' + table[year]) # Lo mismo que: para el año en table.keys()"
   ]
  },
  {
   "cell_type": "code",
   "execution_count": 2,
   "id": "3a901671",
   "metadata": {},
   "outputs": [
    {
     "ename": "NameError",
     "evalue": "name 'table' is not defined",
     "output_type": "error",
     "traceback": [
      "\u001b[0;31m---------------------------------------------------------------------------\u001b[0m",
      "\u001b[0;31mNameError\u001b[0m                                 Traceback (most recent call last)",
      "Cell \u001b[0;32mIn[2], line 2\u001b[0m\n\u001b[1;32m      1\u001b[0m K \u001b[38;5;241m=\u001b[39m \u001b[38;5;124m'\u001b[39m\u001b[38;5;124mHoly Grail\u001b[39m\u001b[38;5;124m'\u001b[39m\n\u001b[0;32m----> 2\u001b[0m \u001b[43mtable\u001b[49m[K]\n",
      "\u001b[0;31mNameError\u001b[0m: name 'table' is not defined"
     ]
    }
   ],
   "source": [
    "K = 'Holy Grail'\n",
    "table[K] # Key=>Value (normal usage)\n",
    "\n",
    "[key for key in table.keys() if table[key] == V] # Ditto"
   ]
  },
  {
   "cell_type": "code",
   "execution_count": 5,
   "id": "615529b8",
   "metadata": {},
   "outputs": [
    {
     "data": {
      "text/plain": [
       "{99: 'spam'}"
      ]
     },
     "execution_count": 5,
     "metadata": {},
     "output_type": "execute_result"
    }
   ],
   "source": [
    "D = {}\n",
    "D[99] = 'spam'  # Añadir entrada : valor a diccionario\n",
    "D"
   ]
  },
  {
   "cell_type": "code",
   "execution_count": 7,
   "id": "25fb50ae",
   "metadata": {},
   "outputs": [
    {
     "data": {
      "text/plain": [
       "88"
      ]
     },
     "execution_count": 7,
     "metadata": {},
     "output_type": "execute_result"
    }
   ],
   "source": [
    "Matrix = {}\n",
    "Matrix[(2, 3, 4)] = 88\n",
    "Matrix[(7, 8, 9)] = 99\n",
    "X = 2; Y = 3; Z = 4 \n",
    "Matrix[(X, Y, Z)]"
   ]
  },
  {
   "cell_type": "code",
   "execution_count": null,
   "id": "2066e852",
   "metadata": {},
   "outputs": [],
   "source": [
    ">>> if (2, 3, 6) in Matrix: # Check for key before fetch\n",
    "... print(Matrix[(2, 3, 6)]) # See Chapters 10 and 12 for if/else\n",
    "... else:\n",
    "... print(0)\n",
    "...\n",
    "0\n",
    ">>> try:\n",
    "... print(Matrix[(2, 3, 6)]) # Try to index\n",
    "... except KeyError: # Catch and recover\n",
    "... print(0) # See Chapters 10 and 34 for try/except\n",
    "...\n",
    "0\n",
    ">>> Matrix.get((2, 3, 4), 0) # Exists: fetch and return\n",
    "88\n",
    ">>> Matrix.get((2, 3, 6), 0)"
   ]
  },
  {
   "cell_type": "code",
   "execution_count": 8,
   "id": "4ffff985",
   "metadata": {},
   "outputs": [
    {
     "data": {
      "text/plain": [
       "'Bob'"
      ]
     },
     "execution_count": 8,
     "metadata": {},
     "output_type": "execute_result"
    }
   ],
   "source": [
    "rec = {}\n",
    "rec['name'] = 'Bob'\n",
    "rec['age'] = 40.5\n",
    "rec['job'] = 'developer/manager'\n",
    "rec['name']"
   ]
  },
  {
   "cell_type": "code",
   "execution_count": null,
   "id": "486f9990",
   "metadata": {},
   "outputs": [],
   "source": [
    "rec = {'name': 'Bob',\n",
    "... 'jobs': ['developer', 'manager'],\n",
    "... 'web': 'www.bobs.org/ ̃Bob',\n",
    "... 'home': {'state': 'Overworked', 'zip': 12345}}"
   ]
  },
  {
   "cell_type": "code",
   "execution_count": null,
   "id": "0e378978",
   "metadata": {},
   "outputs": [],
   "source": [
    ">>> rec['name']\n",
    "'Bob'\n",
    ">>> rec['jobs']\n",
    "['developer', 'manager']\n",
    ">>> rec['jobs'][1]\n",
    "'manager'\n",
    ">>> rec['home']['zip']\n",
    "12345"
   ]
  },
  {
   "cell_type": "code",
   "execution_count": null,
   "id": "f842d38f",
   "metadata": {},
   "outputs": [],
   "source": [
    "db = []\n",
    "db.append(rec) # A list \"database\"\n",
    "db.append(other)\n",
    "db[0]['jobs']\n",
    "db = {}\n",
    "db['bob'] = rec # A dictionary \"database\"\n",
    "db['sue'] = other\n",
    "db['bob']['jobs']"
   ]
  }
 ],
 "metadata": {
  "kernelspec": {
   "display_name": "Python 3",
   "language": "python",
   "name": "python3"
  },
  "language_info": {
   "codemirror_mode": {
    "name": "ipython",
    "version": 3
   },
   "file_extension": ".py",
   "mimetype": "text/x-python",
   "name": "python",
   "nbconvert_exporter": "python",
   "pygments_lexer": "ipython3",
   "version": "3.12.3"
  }
 },
 "nbformat": 4,
 "nbformat_minor": 5
}
