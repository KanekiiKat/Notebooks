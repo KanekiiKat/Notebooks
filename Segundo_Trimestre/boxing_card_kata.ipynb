{
 "cells": [
  {
   "cell_type": "markdown",
   "metadata": {},
   "source": [
    "# Boxing Kata\n",
    "\n",
    "Conseguir printar en consola la Scorecard.\n",
    "\n",
    "- Las tarjetas tendrán 12 rounds\n",
    "- Score : la puntuación que dan los arbitros\n",
    "- A medida que avanzan los rounds, actualizar la Score total con la Score que escriben los arbritos."
   ]
  },
  {
   "cell_type": "markdown",
   "metadata": {},
   "source": [
    "### Para esto:\n",
    "\n",
    "- Saber strings de Java\n",
    "- La tabla lo hace automáticamente una dependencia."
   ]
  },
  {
   "cell_type": "markdown",
   "metadata": {},
   "source": [
    "## Apuntes\n",
    "\n",
    "- Las lineas de puntos: (IS-A) indica una relación de herencia.\n",
    "- Liea continua :(HAS-A) indica una relación de composición o agregación.\n",
    "- Clases abstractas (lo veremos más adelante)\n",
    "- Cualquier supertipo puede ser sustituido por un subtipo, pero al revés no.\n",
    "- Copiar y pegar la interfaz.\n",
    "- Limpiar workspace Java: Clean Java languaje...\n",
    "- Plugin jar, saber configurarlo\n",
    "- Saber como añadir plugins en general\n",
    "- sabes que son la instancias.\n",
    "- Diagramas: lo de arriba propiedades lo de abajo metodos\n",
    "- con los getAlgo, puedes obtener propiedades privadas.\n",
    "- toString: Contiene la representación de la clase. + Tiene que ser obligatoriamente público.\n",
    "- Usar el StreamBuilder siempre que se pueda.\n"
   ]
  }
 ],
 "metadata": {
  "language_info": {
   "name": "python"
  }
 },
 "nbformat": 4,
 "nbformat_minor": 2
}
