{
 "cells": [
  {
   "cell_type": "markdown",
   "id": "c9945eec",
   "metadata": {},
   "source": [
    "# Comandos básicos de Git y GitHub"
   ]
  },
  {
   "cell_type": "markdown",
   "id": "b9e54fd1",
   "metadata": {},
   "source": [
    "\n",
    "Este notebook incluye una lista de comandos esenciales para trabajar con **Git** y **GitHub**, con explicaciones cortas.\n",
    "    "
   ]
  },
  {
   "cell_type": "markdown",
   "id": "b21a0442",
   "metadata": {},
   "source": [
    "## 1. Inicializar un repositorio"
   ]
  },
  {
   "cell_type": "code",
   "execution_count": null,
   "id": "4201d797",
   "metadata": {},
   "outputs": [],
   "source": [
    "git init"
   ]
  },
  {
   "cell_type": "markdown",
   "id": "b1570819",
   "metadata": {},
   "source": [
    "Inicializa un nuevo repositorio de Git en el directorio actual."
   ]
  },
  {
   "cell_type": "markdown",
   "id": "afd96af8",
   "metadata": {},
   "source": [
    "## 2. Clonar un repositorio"
   ]
  },
  {
   "cell_type": "code",
   "execution_count": null,
   "id": "09ed4c82",
   "metadata": {},
   "outputs": [],
   "source": [
    "git clone <url-del-repositorio>"
   ]
  },
  {
   "cell_type": "markdown",
   "id": "8d1c4861",
   "metadata": {},
   "source": [
    "Copia un repositorio remoto a tu máquina local."
   ]
  },
  {
   "cell_type": "markdown",
   "id": "10d63b8b",
   "metadata": {},
   "source": [
    "## 3. Ver estado del repositorio"
   ]
  },
  {
   "cell_type": "code",
   "execution_count": null,
   "id": "3d13a4c6",
   "metadata": {},
   "outputs": [],
   "source": [
    "git status"
   ]
  },
  {
   "cell_type": "markdown",
   "id": "975fa183",
   "metadata": {},
   "source": [
    "Muestra el estado actual del repositorio (archivos modificados, no rastreados, en staging, etc.)."
   ]
  },
  {
   "cell_type": "markdown",
   "id": "225c7b85",
   "metadata": {},
   "source": [
    "## 4. Añadir archivos al staging"
   ]
  },
  {
   "cell_type": "code",
   "execution_count": null,
   "id": "d8ee19f2",
   "metadata": {},
   "outputs": [],
   "source": [
    "git add <archivo>"
   ]
  },
  {
   "cell_type": "markdown",
   "id": "abe49652",
   "metadata": {},
   "source": [
    "Añade archivos al área de staging (prepararlos para commit)."
   ]
  },
  {
   "cell_type": "markdown",
   "id": "0ae59596",
   "metadata": {},
   "source": [
    "## 5. Hacer commit"
   ]
  },
  {
   "cell_type": "code",
   "execution_count": null,
   "id": "370d9333",
   "metadata": {},
   "outputs": [],
   "source": [
    "git commit -m \"Mensaje del commit\""
   ]
  },
  {
   "cell_type": "markdown",
   "id": "071d837d",
   "metadata": {},
   "source": [
    "Guarda los cambios del área de staging en el historial del repositorio con un mensaje descriptivo."
   ]
  },
  {
   "cell_type": "markdown",
   "id": "9e0fc8d1",
   "metadata": {},
   "source": [
    "## 6. Ver historial de commits"
   ]
  },
  {
   "cell_type": "code",
   "execution_count": null,
   "id": "f5beea03",
   "metadata": {},
   "outputs": [],
   "source": [
    "git log"
   ]
  },
  {
   "cell_type": "markdown",
   "id": "39613be0",
   "metadata": {},
   "source": [
    "Muestra el historial de commits."
   ]
  },
  {
   "cell_type": "markdown",
   "id": "fc50768c",
   "metadata": {},
   "source": [
    "## 7. Deshacer un git add"
   ]
  },
  {
   "cell_type": "code",
   "execution_count": null,
   "id": "51ed010b",
   "metadata": {},
   "outputs": [],
   "source": [
    "git restore --staged <archivo>"
   ]
  },
  {
   "cell_type": "markdown",
   "id": "eb54df59",
   "metadata": {},
   "source": [
    "Quita un archivo del área de staging (deshace el `git add`)."
   ]
  },
  {
   "cell_type": "markdown",
   "id": "a676d82a",
   "metadata": {},
   "source": [
    "## 8. Crear una nueva rama"
   ]
  },
  {
   "cell_type": "code",
   "execution_count": null,
   "id": "829a1060",
   "metadata": {},
   "outputs": [],
   "source": [
    "git branch <nombre-rama>"
   ]
  },
  {
   "cell_type": "markdown",
   "id": "93a9472f",
   "metadata": {},
   "source": [
    "Crea una nueva rama llamada `<nombre-rama>`."
   ]
  },
  {
   "cell_type": "markdown",
   "id": "c9ded4cb",
   "metadata": {},
   "source": [
    "## 9. Cambiar de rama"
   ]
  },
  {
   "cell_type": "code",
   "execution_count": null,
   "id": "e096ca83",
   "metadata": {},
   "outputs": [],
   "source": [
    "git checkout <nombre-rama>"
   ]
  },
  {
   "cell_type": "markdown",
   "id": "6ccb23c4",
   "metadata": {},
   "source": [
    "Cambia a la rama especificada."
   ]
  },
  {
   "cell_type": "markdown",
   "id": "17fffe58",
   "metadata": {},
   "source": [
    "## 10. Fusionar ramas"
   ]
  },
  {
   "cell_type": "code",
   "execution_count": null,
   "id": "b4b87d53",
   "metadata": {},
   "outputs": [],
   "source": [
    "git merge <nombre-rama>"
   ]
  },
  {
   "cell_type": "markdown",
   "id": "3e71486f",
   "metadata": {},
   "source": [
    "Fusiona `<nombre-rama>` en la rama actual."
   ]
  },
  {
   "cell_type": "markdown",
   "id": "5e82f902",
   "metadata": {},
   "source": [
    "## 11. Subir cambios a GitHub"
   ]
  },
  {
   "cell_type": "code",
   "execution_count": null,
   "id": "ed697f2c",
   "metadata": {},
   "outputs": [],
   "source": [
    "git push origin <nombre-rama>"
   ]
  },
  {
   "cell_type": "markdown",
   "id": "2b1a779c",
   "metadata": {},
   "source": [
    "Sube los commits de la rama local a GitHub."
   ]
  },
  {
   "cell_type": "markdown",
   "id": "9e47f005",
   "metadata": {},
   "source": [
    "## 12. Actualizar repositorio local con cambios remotos"
   ]
  },
  {
   "cell_type": "code",
   "execution_count": null,
   "id": "bc6878c7",
   "metadata": {},
   "outputs": [],
   "source": [
    "git pull"
   ]
  },
  {
   "cell_type": "markdown",
   "id": "2b762fa4",
   "metadata": {},
   "source": [
    "Descarga y fusiona los cambios del repositorio remoto al local."
   ]
  },
  {
   "cell_type": "markdown",
   "id": "096fc10e",
   "metadata": {},
   "source": [
    "## 13. Ver ramas remotas"
   ]
  },
  {
   "cell_type": "code",
   "execution_count": null,
   "id": "735b2d53",
   "metadata": {},
   "outputs": [],
   "source": [
    "git branch -r"
   ]
  },
  {
   "cell_type": "markdown",
   "id": "8add5686",
   "metadata": {},
   "source": [
    "Muestra todas las ramas remotas."
   ]
  },
  {
   "cell_type": "markdown",
   "id": "d01ea491",
   "metadata": {},
   "source": [
    "## 14. Eliminar una rama"
   ]
  },
  {
   "cell_type": "code",
   "execution_count": null,
   "id": "91707add",
   "metadata": {},
   "outputs": [],
   "source": [
    "git branch -d <nombre-rama>"
   ]
  },
  {
   "cell_type": "markdown",
   "id": "86699de5",
   "metadata": {},
   "source": [
    "Elimina una rama local llamada `<nombre-rama>`."
   ]
  },
  {
   "cell_type": "markdown",
   "id": "cf5d92b4",
   "metadata": {},
   "source": [
    "## 15. Ver diferencias entre archivos"
   ]
  },
  {
   "cell_type": "code",
   "execution_count": null,
   "id": "d32695c6",
   "metadata": {},
   "outputs": [],
   "source": [
    "git diff"
   ]
  },
  {
   "cell_type": "markdown",
   "id": "f7b23685",
   "metadata": {},
   "source": [
    "Muestra las diferencias entre archivos no comiteados."
   ]
  }
 ],
 "metadata": {},
 "nbformat": 4,
 "nbformat_minor": 5
}
