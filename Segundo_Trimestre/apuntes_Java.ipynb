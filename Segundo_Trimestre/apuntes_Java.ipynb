{
 "cells": [
  {
   "cell_type": "markdown",
   "metadata": {},
   "source": [
    "# Java"
   ]
  },
  {
   "cell_type": "markdown",
   "metadata": {},
   "source": [
    "![Introducción](../imgs/esquema_introduccion_java.png)"
   ]
  },
  {
   "cell_type": "markdown",
   "metadata": {},
   "source": [
    "Orden: instalar jre --> sdk --> IDE \n",
    "\n",
    "Herramienta de proyectos para Java. \n",
    "Dependencias Yunit o Junit"
   ]
  },
  {
   "cell_type": "markdown",
   "metadata": {},
   "source": [
    "Crear proyecto java\n",
    "\n",
    "comando: !mvn archetype:generate -DgroupId=com.miapp -DartifactId=MiProyecto -DarchetypeArtifactId=maven-archetype-quickstart -DinteractiveMode=false\n",
    "\n",
    "nombre de la clase ejemplo : #dominio#.#nombre empresa#.#nombre app#\n",
    "\n",
    "pom = \"manejador del objeto del proyecto\"\n",
    "\n",
    "\n",
    "maven te creara src y pom.xml \n",
    "dentro de src main y test\n",
    "\n",
    "dentro de main, java\n",
    "\n",
    "creara un hello world automaticamente."
   ]
  }
 ],
 "metadata": {
  "language_info": {
   "name": "python"
  }
 },
 "nbformat": 4,
 "nbformat_minor": 2
}
