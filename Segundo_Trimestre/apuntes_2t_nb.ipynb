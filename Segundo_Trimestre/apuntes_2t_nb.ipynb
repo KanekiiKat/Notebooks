{
 "cells": [
  {
   "cell_type": "markdown",
   "metadata": {},
   "source": [
    "Maven / Gradle para corregir nuestros trabajos\n",
    "R.A.D -> Intelig\n",
    "\n",
    "C++ == c orientado a objetos.\n",
    "\n",
    "Kotlin = desarrollar aplicaciones android.\n",
    "\n",
    "Saber hacer un CRUD para aprobar.\n",
    "\n",
    "DDD = Domain Driver Design\n",
    "\n",
    "pytest-cov == coverage\n",
    "\n",
    "- en java se suele poner get delante para decir que con dicha funcion vas  a obtener algo."
   ]
  },
  {
   "cell_type": "markdown",
   "metadata": {},
   "source": [
    "@pytest.mark.chance = decoradores de función.\n",
    "\n",
    "metodo estático = no self"
   ]
  },
  {
   "cell_type": "markdown",
   "metadata": {},
   "source": [
    "Tipos de metodos\n",
    "\n",
    "- Estaticos (Normales)\n",
    "- De clase (Clase.)\n",
    "- instancias (con selfs)"
   ]
  },
  {
   "cell_type": "markdown",
   "metadata": {},
   "source": [
    "## Clases\n",
    "\n",
    "- Las clases no tienen conocimientos internos de otra clase"
   ]
  },
  {
   "cell_type": "code",
   "execution_count": null,
   "metadata": {},
   "outputs": [],
   "source": [
    "# Metodo privado (ejemplo):\n",
    "\n",
    "def __init__(self, *dice):\n",
    "    self.dice = list(dice)"
   ]
  }
 ],
 "metadata": {
  "language_info": {
   "name": "python"
  }
 },
 "nbformat": 4,
 "nbformat_minor": 2
}
