{
 "cells": [
  {
   "cell_type": "markdown",
   "metadata": {},
   "source": [
    "# Java"
   ]
  },
  {
   "cell_type": "code",
   "execution_count": null,
   "metadata": {
    "vscode": {
     "languageId": "markdown"
    }
   },
   "outputs": [],
   "source": [
    "## Índice\n",
    "\n",
    "1. [Introducción](#Introducción)\n",
    "2. [Instalar Java](#Instalar-Java)\n",
    "3. [Crear proyecto java](#Crear-proyecto-java)\n",
    "4. [Apuntes sueltos](#Apuntes-sueltos)\n",
    "5. [Ejemplo código](#Ejemplo-código)\n",
    "6. [Como terminar de configurar el proyecto](#Como-terminar-de-configurar-el-proyecto)\n",
    "7. [Tarjetas usuarios](#Tarjetas-usuarios)\n",
    "8. [Arrays](#Arrays)\n",
    "9. [Acceder a las Arrays](#Acceder-a-las-Arrays)"
   ]
  },
  {
   "cell_type": "markdown",
   "metadata": {},
   "source": [
    "![Introducción](../imgs/esquema_introduccion_java.png)"
   ]
  },
  {
   "cell_type": "markdown",
   "metadata": {},
   "source": [
    "## Instalar Java \n",
    "\n",
    "1. Instalar JRE, SDK y un IDE.\n",
    "2. Crear un proyecto Java con Maven:\n",
    "    ```\n",
    "    !mvn archetype:generate -DgroupId=com.miapp -DartifactId=MiProyecto -DarchetypeArtifactId=maven-archetype-quickstart -DinteractiveMode=false\n",
    "    ```\n",
    "3. Maven creará las carpetas `src` y `pom.xml`. Dentro de `src` estarán `main` y `test`, y dentro de `main`, `java`.\n",
    "4. Maven generará automáticamente un \"Hello World\".\n",
    "5. Las dependencias se gestionan con Maven en lugar de `pip`.\n",
    "6. Para crear un `.jar`, se necesita un plugin específico de Maven.\n",
    "7. En Java:\n",
    "    - No hay listas, se usan arrays `[]`.\n",
    "    - Un `char` ocupa 16/32 bits.\n",
    "    - `final` (private final) se usa para constantes.\n",
    "    - Reducir la mutabilidad de las variables.\n",
    "    - El constructor por defecto es necesario para algunos frameworks.\n",
    "    - No hay palabra reservada para definir una función, se usa el tipo de retorno (ejemplo: `char calcularLetra(String DNI)`).\n",
    "\n",
    "Herramienta de proyectos para Java. \n",
    "Dependencias Yunit o Junit"
   ]
  },
  {
   "cell_type": "markdown",
   "metadata": {},
   "source": [
    "## Crear proyecto java\n",
    "\n",
    "comando: !mvn archetype:generate -DgroupId=com.miapp -DartifactId=MiProyecto -DarchetypeArtifactId=maven-archetype-quickstart -DinteractiveMode=false\n",
    "\n",
    "nombre de la clase ejemplo : #dominio#.#nombre empresa#.#nombre app#\n",
    "\n",
    "pom = \"manejador del objeto del proyecto\"\n",
    "\n",
    "\n",
    "maven te creara src y pom.xml \n",
    "dentro de src main y test\n",
    "\n",
    "dentro de main, java\n",
    "\n",
    "creara un hello world automaticamente.\n",
    "\n",
    "ahora las instalaciones se hacen por **mvn** en vez de por **pip**.\n",
    "\n",
    "para hacer un .jar, tener el plugin especifico para eso con maven.\n"
   ]
  },
  {
   "cell_type": "code",
   "execution_count": null,
   "metadata": {
    "vscode": {
     "languageId": "plaintext"
    }
   },
   "outputs": [],
   "source": []
  },
  {
   "cell_type": "markdown",
   "metadata": {},
   "source": [
    "## Apuntes sueltos.\n",
    "\n",
    "- Respetar la beta\n",
    "\n",
    "- Deben inicializarse todas las variables ejm: int variable = 25\n",
    "\n",
    "- En Java no hay listas, los `[]` son un array.\n",
    "\n",
    "- Para inicializar una array, ejemplo: char[] nombreVariable = {'A','B','C'};\n",
    "\n",
    "- En una `array` no puedes cambiar a que apunta en memoria, pero si puedes cambiar ese punto de memoria.\n",
    "\n",
    "- Un `char` son 16/32 bits.\n",
    "\n",
    "- La palabra reservada `final` (private final) se usa para definir una constante, es decir, fija una dirección de memoria.\n",
    "\n",
    "- Reducir la mutabilidad de las variables.\n",
    "\n",
    "- Clase `TablaAsignacion`:\n",
    "    - `TablaAsignacion() {}`: es un constructor, al estar vacío es un constructor por defecto.\n",
    "\n",
    "- Es necesario el constructor por defecto cuando se usa un framework.\n",
    "\n",
    "- No hay palabra reservada para definir una función, se pone el tipo de dato que va a devolver, ejemplo: `char calcularLetra(String DNI){}`\n",
    "\n",
    "- En Java, la palabra reservada `this` se utiliza dentro de un método o constructor para referirse al objeto actual. Es útil para distinguir entre los atributos de la clase y los parámetros del método o constructor. ejemplo: `this.tabla.length;`\n",
    "\n",
    "- 4 tipos de visibilidad private, public, no poner nada (package, es que no se puede ver desde otro paquete).\n",
    "\n",
    "- Boolean es un objeto.\n",
    "- boolean es una variable con `true` o `false`.\n",
    "\n",
    "- `contains()` solo sabe operar con strings.\n",
    "\n",
    "- `public String ToString()`:\n",
    "    - Obligatoriamente public\n",
    "    - se puede poner un `@override` encima para mostrar que se sobreescribe.\n",
    "    - todos los objetos se heredan de la clase Java.\n",
    "\n",
    "- los try en java son así:\n",
    "\n",
    "`try{}`\n",
    "\n",
    "`catch{ArrayIndexOutOfBoundsExeption exception}{throw new ArrayIndexOutOfBoundsException(\"Posicion fuera de limite\")}`\n",
    "\n",
    "- dominio , boton derecho, crear tarjeta, tarjeta de usuario.\n",
    "\n",
    "- Todo lo que se pueda debe estar en private.\n",
    "\n",
    "- En los imports, si está en el mismo paquete que otro metodo o variable lo encuentra aunque no esté importado ese metodo especifico.\n",
    "\n",
    "- for en java ejemplo:\n",
    "    ```java\n",
    "    for (anclaje : anclajes);\n",
    "    ```\n"
   ]
  },
  {
   "cell_type": "code",
   "execution_count": null,
   "metadata": {
    "vscode": {
     "languageId": "plaintext"
    }
   },
   "outputs": [],
   "source": [
    "Ejemplo código:\n",
    "\n",
    "package dni;\n",
    "class TablaAsignacion {\n",
    "            private final char[] tabla = {'T', 'R', 'W', 'A', 'G', 'M', \n",
    "\t\t\t\t\t \t\t'Y', 'F', 'P', 'D', 'X', 'B', \n",
    "\t\t\t\t\t\t\t'N', 'J', 'Z', 'S', 'Q', 'V', \n",
    "\t\t\t\t\t\t\t'H', 'L', 'C', 'K', 'E'}\n",
    "}"
   ]
  },
  {
   "cell_type": "markdown",
   "metadata": {},
   "source": [
    "## Como terminar de configurar el proyecto.\n",
    "\n",
    "- En todos los repos, hay un directorio con gradle.rar o con maven.rar para si en la maquina no esta maven instalado, pueda ejecutarse.\n",
    "\n",
    "- En el .jar no mete los casos test.\n",
    "\n",
    "- Java compilado es Bytecode\n",
    "\n",
    "- PAra crear la clase principal , ejmplo ir a build.gradle o pom.xml\n",
    " - <plugin>\n",
    "    <artifactId>maven-surefire-plugin</artifactId>\n",
    "    <version>2.22.1</version>\n",
    "    </plugin>\n",
    "\n",
    "- En el examen, el pom.xml tiene que tener la url del proyecto y la clase principal.\n",
    "\n",
    "- Para usar Jupiter, dependencias:\n",
    "    - jupiter unit\n",
    "    - Jupiter params\n",
    "- Los test tienen que estar dentro de una clase\n",
    "\n",
    "- Las librerias de java.unit estan disponible sin dependencia.\n",
    "\n",
    "- Etiqueta `@BeforeClass` es un metodo que tu ejecutas para preparar la clase antes de los demas casos test.\n",
    "\n"
   ]
  },
  {
   "cell_type": "markdown",
   "metadata": {
    "vscode": {
     "languageId": "plaintext"
    }
   },
   "source": [
    "- Saber configurar : Main, casos test dependencias en el pom.\n",
    "- Saber inicialkizar variables y una array."
   ]
  },
  {
   "cell_type": "markdown",
   "metadata": {},
   "source": [
    "## Tarjetas usuarios\n",
    "\n",
    "- cuadrado = propiedades privadas\n",
    "\n",
    "- circulo = propiedades públicas\n",
    "\n",
    "- f = final\n",
    "\n",
    "- las flechas = anclajes (HAS-A)\n"
   ]
  },
  {
   "cell_type": "code",
   "execution_count": null,
   "metadata": {
    "vscode": {
     "languageId": "markdown"
    }
   },
   "outputs": [],
   "source": [
    "## Arrays\n",
    "\n",
    "- Si quieres cambiarlo tendras que tirarlo abajo y rehacerlo.\n",
    "- Tienen que tener el mismo valor.\n",
    "- Los arrays en Java son de tamaño fijo.\n",
    "- Los elementos del array se almacenan en ubicaciones de memoria contiguas.\n",
    "- Los arrays pueden ser de tipos primitivos o de objetos.\n",
    "- La longitud del array se puede obtener usando `array.length`.\n",
    "- Los índices de los arrays comienzan en 0.\n",
    "- 32 bits x numero de posiciones"
   ]
  },
  {
   "cell_type": "code",
   "execution_count": null,
   "metadata": {
    "vscode": {
     "languageId": "markdown"
    }
   },
   "outputs": [],
   "source": [
    "### Acceder a las Arrays\n",
    "\n",
    "- Para acceder a un elemento de un array, se utiliza el índice del elemento deseado. Los índices comienzan en 0.\n",
    "    ```java\n",
    "    int[] numeros = {10, 20, 30, 40};\n",
    "    int primerNumero = numeros[0]; // Accede al primer elemento (10)\n",
    "    ```\n",
    "\n",
    "- Para modificar un elemento de un array, se asigna un nuevo valor al índice correspondiente.\n",
    "    ```java\n",
    "    numeros[1] = 25; // Modifica el segundo elemento (20) a 25\n",
    "    ```\n",
    "\n",
    "- Para recorrer un array, se puede utilizar un bucle `for`.\n",
    "    ```java\n",
    "    for (int i = 0; i < numeros.length; i++) {\n",
    "        System.out.println(numeros[i]);\n",
    "    }\n",
    "    ```\n",
    "\n",
    "- También se puede utilizar un bucle `for-each` para recorrer un array.\n",
    "    ```java\n",
    "    for (int numero : numeros) {\n",
    "        System.out.println(numero);\n",
    "    }\n",
    "    ```\n"
   ]
  }
 ],
 "metadata": {
  "language_info": {
   "name": "python"
  }
 },
 "nbformat": 4,
 "nbformat_minor": 2
}
