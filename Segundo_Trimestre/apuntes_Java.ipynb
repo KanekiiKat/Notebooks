{
 "cells": [
  {
   "cell_type": "markdown",
   "metadata": {},
   "source": [
    "# Java"
   ]
  },
  {
   "cell_type": "markdown",
   "metadata": {},
   "source": [
    "![Introducción](../imgs/esquema_introduccion_java.png)"
   ]
  },
  {
   "cell_type": "markdown",
   "metadata": {},
   "source": [
    "## Instalar Java \n",
    "\n",
    "1. Instalar JRE, SDK y un IDE.\n",
    "2. Crear un proyecto Java con Maven:\n",
    "    ```\n",
    "    !mvn archetype:generate -DgroupId=com.miapp -DartifactId=MiProyecto -DarchetypeArtifactId=maven-archetype-quickstart -DinteractiveMode=false\n",
    "    ```\n",
    "3. Maven creará las carpetas `src` y `pom.xml`. Dentro de `src` estarán `main` y `test`, y dentro de `main`, `java`.\n",
    "4. Maven generará automáticamente un \"Hello World\".\n",
    "5. Las dependencias se gestionan con Maven en lugar de `pip`.\n",
    "6. Para crear un `.jar`, se necesita un plugin específico de Maven.\n",
    "7. En Java:\n",
    "    - No hay listas, se usan arrays `[]`.\n",
    "    - Un `char` ocupa 16/32 bits.\n",
    "    - `final` (private final) se usa para constantes.\n",
    "    - Reducir la mutabilidad de las variables.\n",
    "    - El constructor por defecto es necesario para algunos frameworks.\n",
    "    - No hay palabra reservada para definir una función, se usa el tipo de retorno (ejemplo: `char calcularLetra(String DNI)`).\n",
    "\n",
    "Herramienta de proyectos para Java. \n",
    "Dependencias Yunit o Junit"
   ]
  },
  {
   "cell_type": "markdown",
   "metadata": {},
   "source": [
    "## Crear proyecto java\n",
    "\n",
    "comando: !mvn archetype:generate -DgroupId=com.miapp -DartifactId=MiProyecto -DarchetypeArtifactId=maven-archetype-quickstart -DinteractiveMode=false\n",
    "\n",
    "nombre de la clase ejemplo : #dominio#.#nombre empresa#.#nombre app#\n",
    "\n",
    "pom = \"manejador del objeto del proyecto\"\n",
    "\n",
    "\n",
    "maven te creara src y pom.xml \n",
    "dentro de src main y test\n",
    "\n",
    "dentro de main, java\n",
    "\n",
    "creara un hello world automaticamente.\n",
    "\n",
    "ahora las instalaciones se hacen por **mvn** en vez de por **pip**.\n",
    "\n",
    "para hacer un .jar, tener el plugin especifico para eso con maven."
   ]
  },
  {
   "cell_type": "markdown",
   "metadata": {},
   "source": [
    "## Apuntes sueltos.\n",
    "\n",
    "- Respetar la beta\n",
    "\n",
    "- En Java no hay listas, los `[]` son un array.\n",
    "\n",
    "- Un `char` son 16/32 bits.\n",
    "\n",
    "- La palabra reservada `final` (private final) se usa para definir una constante, es decir, fija una dirección de memoria.\n",
    "\n",
    "- Reducir la mutabilidad de las variables.\n",
    "\n",
    "- Clase `TablaAsignacion`:\n",
    "    - `TablaAsignacion() {}`: es un constructor, al estar vacío es un constructor por defecto.\n",
    "\n",
    "- Es necesario el constructor por defecto cuando se usa un framework.\n",
    "\n",
    "- No hay palabra reservada para definir una función, se pone el tipo de dato que va a devolver, ejemplo: `char calcularLetra(String DNI){}`\n",
    "\n",
    "- En Java, la palabra reservada `this` se utiliza dentro de un método o constructor para referirse al objeto actual. Es útil para distinguir entre los atributos de la clase y los parámetros del método o constructor. ejemplo: `this.tabla.length;`\n",
    "\n",
    "- 4 tipos de visibilidad private, public, no poner nada (package, es que no se puede ver desde otro paquete).\n",
    "\n",
    "- Boolean es un objeto.\n",
    "- boolean es una variable con `true` o `false`.\n",
    "\n",
    "- `contains()` solo sabe operar con strings.\n",
    "\n",
    "- `public String ToString()`:\n",
    "    - Obligatoriamente public\n",
    "    - se puede poner un `@override` encima para mostrar que se sobreescribe.\n",
    "    - todos los objetos se heredan de la clase Java."
   ]
  },
  {
   "cell_type": "code",
   "execution_count": null,
   "metadata": {
    "vscode": {
     "languageId": "plaintext"
    }
   },
   "outputs": [],
   "source": [
    "Ejemplo código:\n",
    "\n",
    "package dni;\n",
    "class TablaAsignacion {\n",
    "            private final char[] tabla = {'T', 'R', 'W', 'A', 'G', 'M', \n",
    "\t\t\t\t\t \t\t'Y', 'F', 'P', 'D', 'X', 'B', \n",
    "\t\t\t\t\t\t\t'N', 'J', 'Z', 'S', 'Q', 'V', \n",
    "\t\t\t\t\t\t\t'H', 'L', 'C', 'K', 'E'}\n",
    "}"
   ]
  }
 ],
 "metadata": {
  "language_info": {
   "name": "python"
  }
 },
 "nbformat": 4,
 "nbformat_minor": 2
}
