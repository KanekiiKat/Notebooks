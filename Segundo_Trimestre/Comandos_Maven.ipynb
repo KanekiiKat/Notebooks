{
 "cells": [
  {
   "cell_type": "markdown",
   "id": "8b47d640",
   "metadata": {},
   "source": [
    "# 📌 Comandos básicos de Maven\n",
    "\n",
    "Aquí tienes una lista de comandos de Maven con una breve explicación."
   ]
  },
  {
   "cell_type": "code",
   "execution_count": null,
   "id": "e58125b1",
   "metadata": {},
   "outputs": [],
   "source": [
    "!mvn -version  # Verifica la versión de Maven instalada"
   ]
  },
  {
   "cell_type": "markdown",
   "id": "52a14a9a",
   "metadata": {},
   "source": [
    "## 🔹 1️⃣ Crear un nuevo proyecto Maven"
   ]
  },
  {
   "cell_type": "code",
   "execution_count": null,
   "id": "0aa48b9c",
   "metadata": {},
   "outputs": [],
   "source": [
    "!mvn archetype:generate -DgroupId=com.miapp -DartifactId=MiProyecto -DarchetypeArtifactId=maven-archetype-quickstart -DinteractiveMode=false"
   ]
  },
  {
   "cell_type": "markdown",
   "id": "4d914be3",
   "metadata": {},
   "source": [
    "## 🔹 2️⃣ Compilar el código fuente"
   ]
  },
  {
   "cell_type": "code",
   "execution_count": null,
   "id": "8a0dc1fe",
   "metadata": {},
   "outputs": [],
   "source": [
    "!mvn compile  # Compila el código fuente Java"
   ]
  },
  {
   "cell_type": "markdown",
   "id": "4a38359a",
   "metadata": {},
   "source": [
    "## 🔹 3️⃣ Ejecutar pruebas"
   ]
  },
  {
   "cell_type": "code",
   "execution_count": null,
   "id": "b14117b0",
   "metadata": {},
   "outputs": [],
   "source": [
    "!mvn test  # Ejecuta las pruebas unitarias del proyecto"
   ]
  },
  {
   "cell_type": "markdown",
   "id": "537901ca",
   "metadata": {},
   "source": [
    "## 🔹 4️⃣ Generar un archivo JAR"
   ]
  },
  {
   "cell_type": "code",
   "execution_count": null,
   "id": "1300bf06",
   "metadata": {},
   "outputs": [],
   "source": [
    "!mvn package  # Crea un archivo .jar en la carpeta 'target/'"
   ]
  },
  {
   "cell_type": "markdown",
   "id": "2bf5d958",
   "metadata": {},
   "source": [
    "## 🔹 5️⃣ Ejecutar el programa"
   ]
  },
  {
   "cell_type": "code",
   "execution_count": null,
   "id": "e5f7c1f3",
   "metadata": {},
   "outputs": [],
   "source": [
    "!java -jar target/MiProyecto-1.0-SNAPSHOT.jar"
   ]
  },
  {
   "cell_type": "markdown",
   "id": "8dca528d",
   "metadata": {},
   "source": [
    "## 🔹 6️⃣ Instalar el JAR en el repositorio local"
   ]
  },
  {
   "cell_type": "code",
   "execution_count": null,
   "id": "725b106a",
   "metadata": {},
   "outputs": [],
   "source": [
    "!mvn install  # Guarda el .jar en el repositorio local de Maven"
   ]
  },
  {
   "cell_type": "markdown",
   "id": "75429f45",
   "metadata": {},
   "source": [
    "## 🔹 7️⃣ Ejecutar directamente con Maven"
   ]
  },
  {
   "cell_type": "code",
   "execution_count": null,
   "id": "4c91695b",
   "metadata": {},
   "outputs": [],
   "source": [
    "!mvn exec:java -Dexec.mainClass='com.miapp.App'"
   ]
  },
  {
   "cell_type": "markdown",
   "id": "591ff356",
   "metadata": {},
   "source": [
    "## 🔹 8️⃣ Limpiar archivos generados"
   ]
  },
  {
   "cell_type": "code",
   "execution_count": null,
   "id": "e37ece4c",
   "metadata": {},
   "outputs": [],
   "source": [
    "!mvn clean  # Borra archivos compilados en 'target/'"
   ]
  }
 ],
 "metadata": {},
 "nbformat": 4,
 "nbformat_minor": 5
}