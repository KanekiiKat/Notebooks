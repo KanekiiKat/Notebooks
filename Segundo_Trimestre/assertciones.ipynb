{
 "cells": [
  {
   "cell_type": "markdown",
   "metadata": {},
   "source": [
    "# Assertciones\n",
    "\n",
    "Las **assertciones** en Java no se ejecutan siempre, por eso necesita a maven por ejemplo, en Python por defecto si.\n",
    "\n",
    "Los Tests puedeen ser principalmente de **precondiciones** y **postcondiciones**. Con las asserts no puedes testear postcondiciones públicas.\n",
    "\n",
    "Diferencia entre assert y try except: \n",
    "\n",
    "- **assert:** prueba lo que entra.\n",
    "- **try/except:** controla lo que entra y captura errores.\n",
    "\n",
    "## Diferencia entre permisivo o estricto.\n",
    "- **Permisivo**: Acepta más casos, incluso si no cumplen estrictamente con las reglas. Es más flexible pero puede permitir errores o inconsistencias.\n",
    "\n",
    "- **Estricto**: Aplica reglas rígidas y no tolera desviaciones. Es más seguro pero menos flexible.\n",
    "\n",
    "\n"
   ]
  }
 ],
 "metadata": {
  "language_info": {
   "name": "python"
  }
 },
 "nbformat": 4,
 "nbformat_minor": 2
}
