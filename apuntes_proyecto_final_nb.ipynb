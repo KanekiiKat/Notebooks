{
 "cells": [
  {
   "cell_type": "markdown",
   "metadata": {},
   "source": [
    "Proyecto final\n",
    "==============\n",
    "\n",
    "- Se prioriza con las historias de usuario \n",
    "- Necesitamos una Notelist\n",
    "- Día 9 de Diciembre, mínima versión\n",
    "\n",
    "De que vá el proyecto:\n",
    "\n",
    "- Página web (Aplicación web)\n",
    "- Frame Works (Es un software que se ejecuta en un puerto del navegador)\n",
    "- EJemplo: \n",
    "Usuario : \"Tienes gafas?\"\n",
    "Programa: \"No\"\n",
    "\n",
    "Aplicaciones\n",
    "============\n",
    "\n",
    "Programacion orientada a objeto\n",
    "\n",
    "Programacion funcional\n",
    "\n",
    "Progamacion estructural\n",
    "\n",
    "Programacion hiperativa\n",
    "\n",
    "Prgramacion dirigida por eventos.\n",
    "\n",
    "- Backend\n",
    "\n",
    "MVC (Modelo Vista Controlador) \n",
    "\n",
    "Modelo en el Backend\n",
    "\n",
    "LEER 4 OJAS DE LA ARQUITECTURA LIMPIA."
   ]
  }
 ],
 "metadata": {
  "language_info": {
   "name": "python"
  }
 },
 "nbformat": 4,
 "nbformat_minor": 2
}
