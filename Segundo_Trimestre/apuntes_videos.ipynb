{
 "cells": [
  {
   "cell_type": "markdown",
   "id": "af4542d5",
   "metadata": {},
   "source": [
    "# Apuntes Videos Clase\n",
    "\n",
    "- Antes de aplicar un fix, debes saber:\n",
    "    - Entender cual es el problema.\n",
    "    - Enterder el código que está escrito y lo que hace.\n",
    "    - Ser capaz de predecir como la corrección abordará el problema.\n",
    "- Un defecto es un error\n",
    "- Primero ocurre un defecto, que es un error en el diseño o lógica del programa. Ese defecto puede causar una infección, que es cuando el estado interno del programa se altera de forma incorrecta. Finalmente, esa infección lleva a un bug, que es el error visible que hace que el programa funcione mal.\n",
    "    - El orden es: Defecto ➔ Infección ➔ Bug.\n",
    "    "
   ]
  }
 ],
 "metadata": {
  "language_info": {
   "name": "python"
  }
 },
 "nbformat": 4,
 "nbformat_minor": 5
}
