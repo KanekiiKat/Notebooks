{
 "cells": [
  {
   "cell_type": "markdown",
   "metadata": {},
   "source": [
    "# Boxing Kata\n",
    "\n",
    "Conseguir printar en consola la Scorecard.\n",
    "\n",
    "- Las tarjetas tendrán 12 rounds\n",
    "- Score : la puntuación que dan los arbitros\n",
    "- A medida que avanzan los rounds, actualizar la Score total con la Score que escriben los arbritos."
   ]
  },
  {
   "cell_type": "markdown",
   "metadata": {},
   "source": [
    "### Para esto:\n",
    "\n",
    "- Saber strings de Java"
   ]
  }
 ],
 "metadata": {
  "language_info": {
   "name": "python"
  }
 },
 "nbformat": 4,
 "nbformat_minor": 2
}
