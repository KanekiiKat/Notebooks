{
 "cells": [
  {
   "cell_type": "markdown",
   "metadata": {},
   "source": [
    "¿Que hace un pato?\n",
    "=================="
   ]
  },
  {
   "cell_type": "markdown",
   "metadata": {},
   "source": [
    "Ganza"
   ]
  },
  {
   "cell_type": "markdown",
   "metadata": {},
   "source": [
    "Código comprehation\n",
    "==================="
   ]
  },
  {
   "cell_type": "code",
   "execution_count": null,
   "metadata": {},
   "outputs": [],
   "source": [
    "def spin_words(sentence):\n",
    "    \n",
    "    MAX_LENGHT= 5\n",
    "\n",
    "    return \" \".join([word if len(word)< MAX_LENGHT else word[::-1] for word in sentence.split()])"
   ]
  }
 ],
 "metadata": {
  "language_info": {
   "name": "python"
  }
 },
 "nbformat": 4,
 "nbformat_minor": 2
}
