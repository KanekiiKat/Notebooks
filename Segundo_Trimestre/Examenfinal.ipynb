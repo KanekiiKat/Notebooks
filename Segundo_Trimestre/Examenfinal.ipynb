{
 "cells": [
  {
   "cell_type": "markdown",
   "metadata": {},
   "source": [
    "# Examen Final Apuntes.\n",
    "\n",
    "- Equals y Hashcode, tenerlo claro.\n",
    "- Estructura de datos por interfaces\n",
    "- Hacer toString siempre\n",
    "- Hay que usar Optional\n",
    "- Saber sobre cuando es public, private y package\n",
    "- Jacoco si se puede\n"
   ]
  }
 ],
 "metadata": {
  "language_info": {
   "name": "python"
  }
 },
 "nbformat": 4,
 "nbformat_minor": 2
}
