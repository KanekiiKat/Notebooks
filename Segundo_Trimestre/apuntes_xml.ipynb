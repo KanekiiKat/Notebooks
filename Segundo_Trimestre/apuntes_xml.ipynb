{
 "cells": [
  {
   "cell_type": "markdown",
   "metadata": {},
   "source": [
    "# Apuntes XML\n",
    "\n",
    "## Apuntes sueltos\n",
    "\n",
    "/ = raiz\n",
    "\n",
    "// = todos descendiente\n",
    "\n",
    "/.. = padre\n",
    "\n",
    "| = OK\n",
    "\n",
    "[@Atrib] Busca el atributo especifico.\n",
    "\n",
    "[Numero] la posición de lo que busque empezando por 1.\n",
    "\n",
    "[last()] La última posición.\n",
    "\n",
    "[@Atrib Numero and @Atrib = \"_\"] tambien se puede usar or\n",
    "\n",
    "note() devuelve todos los nodos\n",
    "\n",
    "text() devuelve el contenido de texto de un nodo\n",
    "\n",
    "* = dame todo"
   ]
  }
 ],
 "metadata": {
  "language_info": {
   "name": "python"
  }
 },
 "nbformat": 4,
 "nbformat_minor": 2
}
